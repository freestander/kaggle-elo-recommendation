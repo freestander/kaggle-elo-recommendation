{
 "cells": [
  {
   "cell_type": "code",
   "execution_count": 1,
   "metadata": {},
   "outputs": [
    {
     "name": "stderr",
     "output_type": "stream",
     "text": [
      "Using TensorFlow backend.\n"
     ]
    }
   ],
   "source": [
    "import numpy as np\n",
    "import pandas as pd\n",
    "from keras.models import Sequential\n",
    "from keras.layers import Dense\n",
    "from keras.wrappers.scikit_learn import KerasRegressor\n",
    "from sklearn.model_selection import cross_val_score\n",
    "from sklearn.model_selection import KFold\n",
    "from sklearn.preprocessing import StandardScaler\n",
    "from sklearn.pipeline import Pipeline\n",
    "import tensorflow as tf\n",
    "from sklearn.metrics import mean_squared_error\n",
    "pd.set_option('max_columns', 100)"
   ]
  },
  {
   "cell_type": "code",
   "execution_count": 2,
   "metadata": {},
   "outputs": [],
   "source": [
    "import keras.backend as K\n",
    "def rmse_keras(y_true, y_pred):\n",
    "    return K.sqrt(K.mean(K.square(y_pred -y_true), axis=-1))\n",
    "\n",
    "def rmse(y_true, y_pred):\n",
    "    return np.sqrt(mean_squared_error(y_true, y_pred))\n",
    "\n",
    "def baseline_model():\n",
    "    # create model\n",
    "    model = Sequential()\n",
    "    model.add(Dense(211, input_dim=211, kernel_initializer='normal', activation='relu'))\n",
    "    model.add(Dense(6, kernel_initializer='normal', activation='relu'))\n",
    "    model.add(Dense(1, kernel_initializer='normal'))\n",
    "    # Compile model\n",
    "    model.compile(loss='mean_squared_error', optimizer='adam', metrics=['mae',rmse_keras])\n",
    "    return model"
   ]
  },
  {
   "cell_type": "code",
   "execution_count": 3,
   "metadata": {},
   "outputs": [],
   "source": [
    "# fix random seed for reproducibility\n",
    "estimator = KerasRegressor(build_fn=baseline_model, epochs=100, batch_size=5, verbose=1)"
   ]
  },
  {
   "cell_type": "code",
   "execution_count": 4,
   "metadata": {},
   "outputs": [],
   "source": [
    "from sklearn.model_selection import KFold, StratifiedKFold\n",
    "\n",
    "FEATS_EXCLUDED = ['first_active_month', 'target', 'card_id', 'outliers',\n",
    "                  'hist_purchase_date_max', 'hist_purchase_date_min', 'hist_card_id_size',\n",
    "                  'new_purchase_date_max', 'new_purchase_date_min', 'new_card_id_size',\n",
    "                  'OOF_PRED', 'month_0']\n",
    "\n",
    "def kfold_keras(train_df, test_df, num_folds, stratified = False, debug= False):\n",
    "    print(\"Starting LightGBM. Train shape: {}, test shape: {}\".format(train_df.shape, test_df.shape))\n",
    "\n",
    "    # Cross validation model\n",
    "    if stratified:\n",
    "        folds = StratifiedKFold(n_splits= num_folds, shuffle=True, random_state=420)\n",
    "    else:\n",
    "        folds = KFold(n_splits= num_folds, shuffle=True, random_state=420)\n",
    "\n",
    "    # Create arrays and dataframes to store results\n",
    "    oof_preds = np.zeros(train_df.shape[0])\n",
    "    sub_preds = np.zeros(test_df.shape[0])\n",
    "    feature_importance_df = pd.DataFrame()\n",
    "    feats = [f for f in train_df.columns if f not in FEATS_EXCLUDED]\n",
    "\n",
    "    # k-fold\n",
    "    for n_fold, (train_idx, valid_idx) in enumerate(folds.split(train_df[feats], train_df['outliers'])):\n",
    "        train_x, train_y = train_df[feats].iloc[train_idx], train_df['target'].iloc[train_idx]\n",
    "        valid_x, valid_y = train_df[feats].iloc[valid_idx], train_df['target'].iloc[valid_idx]\n",
    "\n",
    "        estimator.fit(train_x, train_y)\n",
    "        \n",
    "        oof_preds[valid_idx] = estimator.predict(valid_x)\n",
    "        sub_preds += estimator.predict(test_df[feats]) / folds.n_splits\n",
    "\n",
    "        print('Fold %2d RMSE : %.6f' % (n_fold + 1, rmse(valid_y, oof_preds[valid_idx])))\n",
    "        pd.DataFrame(oof_preds).to_csv('oof_keras{}.csv'.format(n_fold))\n",
    "        pd.DataFrame(sub_preds).to_csv('sub_keras{}.csv'.format(n_fold))\n",
    "\n",
    "    pd.DataFrame(oof_preds).to_csv('oof_keras.csv')\n",
    "    pd.DataFrame(sub_preds).to_csv('preds_keras.csv')\n",
    "    if not debug:\n",
    "        # save submission file\n",
    "        test_df.loc[:,'target'] = sub_preds\n",
    "        test_df = test_df.reset_index()\n",
    "        test_df[['card_id', 'target']].to_csv(submission_file_name, index=False)"
   ]
  },
  {
   "cell_type": "code",
   "execution_count": 5,
   "metadata": {},
   "outputs": [],
   "source": [
    "train_df = pd.read_csv('../working/train_df.csv')\n",
    "test_df = pd.read_csv('../working/test_df.csv')"
   ]
  },
  {
   "cell_type": "code",
   "execution_count": null,
   "metadata": {},
   "outputs": [
    {
     "name": "stdout",
     "output_type": "stream",
     "text": [
      "Starting LightGBM. Train shape: (201917, 221), test shape: (123623, 221)\n",
      "Epoch 1/100\n",
      "161533/161533 [==============================] - 58s 357us/step - loss: 15.0382 - mean_absolute_error: 1.5929 - rmse_keras: 1.5929\n",
      "Epoch 2/100\n",
      "161533/161533 [==============================] - 55s 340us/step - loss: 15.0334 - mean_absolute_error: 1.5976 - rmse_keras: 1.5976\n",
      "Epoch 3/100\n",
      "161533/161533 [==============================] - 48s 296us/step - loss: 15.0338 - mean_absolute_error: 1.5971 - rmse_keras: 1.5971\n",
      "Epoch 4/100\n",
      "161533/161533 [==============================] - 50s 310us/step - loss: 15.0338 - mean_absolute_error: 1.5965 - rmse_keras: 1.5965\n",
      "Epoch 5/100\n",
      "161533/161533 [==============================] - 48s 297us/step - loss: 15.0335 - mean_absolute_error: 1.5966 - rmse_keras: 1.5966\n",
      "Epoch 6/100\n",
      "161533/161533 [==============================] - 49s 301us/step - loss: 15.0337 - mean_absolute_error: 1.5973 - rmse_keras: 1.5973\n",
      "Epoch 10/100\n",
      "161533/161533 [==============================] - 49s 304us/step - loss: 15.0323 - mean_absolute_error: 1.5970 - rmse_keras: 1.5970\n",
      "Epoch 11/100\n",
      "161533/161533 [==============================] - 48s 296us/step - loss: 15.0337 - mean_absolute_error: 1.5977 - rmse_keras: 1.5977\n",
      "Epoch 12/100\n",
      "136875/161533 [========================>.....] - ETA: 7s - loss: 14.8123 - mean_absolute_error: 1.5891 - rmse_keras: 1.5891"
     ]
    },
    {
     "name": "stderr",
     "output_type": "stream",
     "text": [
      "IOPub message rate exceeded.\n",
      "The notebook server will temporarily stop sending output\n",
      "to the client in order to avoid crashing it.\n",
      "To change this limit, set the config variable\n",
      "`--NotebookApp.iopub_msg_rate_limit`.\n",
      "\n",
      "Current values:\n",
      "NotebookApp.iopub_msg_rate_limit=1000.0 (msgs/sec)\n",
      "NotebookApp.rate_limit_window=3.0 (secs)\n",
      "\n"
     ]
    },
    {
     "name": "stdout",
     "output_type": "stream",
     "text": [
      "161533/161533 [==============================] - 50s 309us/step - loss: 15.0329 - mean_absolute_error: 1.5986 - rmse_keras: 1.5986\n",
      "Epoch 19/100\n",
      "161533/161533 [==============================] - 49s 304us/step - loss: 15.0338 - mean_absolute_error: 1.5961 - rmse_keras: 1.5961\n",
      "Epoch 20/100\n",
      "161533/161533 [==============================] - 49s 304us/step - loss: 15.0337 - mean_absolute_error: 1.5966 - rmse_keras: 1.5966\n",
      "Epoch 21/100\n",
      "151910/161533 [===========================>..] - ETA: 2s - loss: 14.9739 - mean_absolute_error: 1.5948 - rmse_keras: 1.5948"
     ]
    },
    {
     "name": "stderr",
     "output_type": "stream",
     "text": [
      "IOPub message rate exceeded.\n",
      "The notebook server will temporarily stop sending output\n",
      "to the client in order to avoid crashing it.\n",
      "To change this limit, set the config variable\n",
      "`--NotebookApp.iopub_msg_rate_limit`.\n",
      "\n",
      "Current values:\n",
      "NotebookApp.iopub_msg_rate_limit=1000.0 (msgs/sec)\n",
      "NotebookApp.rate_limit_window=3.0 (secs)\n",
      "\n"
     ]
    },
    {
     "name": "stdout",
     "output_type": "stream",
     "text": [
      "161533/161533 [==============================] - 53s 328us/step - loss: 15.0334 - mean_absolute_error: 1.5976 - rmse_keras: 1.5976\n",
      "Epoch 33/100\n",
      "161533/161533 [==============================] - 49s 302us/step - loss: 15.0337 - mean_absolute_error: 1.5968 - rmse_keras: 1.5968\n",
      "Epoch 34/100\n",
      "161533/161533 [==============================] - 49s 306us/step - loss: 15.0337 - mean_absolute_error: 1.5965 - rmse_keras: 1.5965\n",
      "Epoch 35/100\n",
      "103995/161533 [==================>...........] - ETA: 17s - loss: 15.0591 - mean_absolute_error: 1.5970 - rmse_keras: 1.5970"
     ]
    },
    {
     "name": "stderr",
     "output_type": "stream",
     "text": [
      "IOPub message rate exceeded.\n",
      "The notebook server will temporarily stop sending output\n",
      "to the client in order to avoid crashing it.\n",
      "To change this limit, set the config variable\n",
      "`--NotebookApp.iopub_msg_rate_limit`.\n",
      "\n",
      "Current values:\n",
      "NotebookApp.iopub_msg_rate_limit=1000.0 (msgs/sec)\n",
      "NotebookApp.rate_limit_window=3.0 (secs)\n",
      "\n"
     ]
    },
    {
     "name": "stdout",
     "output_type": "stream",
     "text": [
      "161533/161533 [==============================] - 48s 298us/step - loss: 15.0337 - mean_absolute_error: 1.5975 - rmse_keras: 1.5975\n",
      "Epoch 41/100\n",
      "161533/161533 [==============================] - 50s 307us/step - loss: 15.0335 - mean_absolute_error: 1.5968 - rmse_keras: 1.5968\n",
      "Epoch 42/100\n",
      "161533/161533 [==============================] - 47s 292us/step - loss: 15.0338 - mean_absolute_error: 1.5970 - rmse_keras: 1.5970\n",
      "Epoch 43/100\n",
      "161533/161533 [==============================] - 47s 294us/step - loss: 15.0328 - mean_absolute_error: 1.5981 - rmse_keras: 1.5981\n",
      "Epoch 44/100\n",
      " 22800/161533 [===>..........................] - ETA: 41s - loss: 15.6443 - mean_absolute_error: 1.6051 - rmse_keras: 1.6051"
     ]
    },
    {
     "name": "stderr",
     "output_type": "stream",
     "text": [
      "IOPub message rate exceeded.\n",
      "The notebook server will temporarily stop sending output\n",
      "to the client in order to avoid crashing it.\n",
      "To change this limit, set the config variable\n",
      "`--NotebookApp.iopub_msg_rate_limit`.\n",
      "\n",
      "Current values:\n",
      "NotebookApp.iopub_msg_rate_limit=1000.0 (msgs/sec)\n",
      "NotebookApp.rate_limit_window=3.0 (secs)\n",
      "\n"
     ]
    },
    {
     "name": "stdout",
     "output_type": "stream",
     "text": [
      "161533/161533 [==============================] - 49s 301us/step - loss: 15.0339 - mean_absolute_error: 1.5965 - rmse_keras: 1.5965\n",
      "Epoch 45/100\n",
      "161533/161533 [==============================] - 48s 297us/step - loss: 15.0333 - mean_absolute_error: 1.5963 - rmse_keras: 1.5963\n",
      "Epoch 47/100\n",
      "161533/161533 [==============================] - 49s 303us/step - loss: 15.0337 - mean_absolute_error: 1.5976 - rmse_keras: 1.5976\n",
      "Epoch 48/100\n",
      "161533/161533 [==============================] - 49s 302us/step - loss: 15.0337 - mean_absolute_error: 1.5966 - rmse_keras: 1.5966\n",
      "Epoch 49/100\n",
      "161533/161533 [==============================] - 48s 295us/step - loss: 15.0333 - mean_absolute_error: 1.5967 - rmse_keras: 1.5967\n",
      "Epoch 50/100\n",
      "161533/161533 [==============================] - 48s 295us/step - loss: 15.0338 - mean_absolute_error: 1.5974 - rmse_keras: 1.5974\n",
      "Epoch 51/100\n",
      "161533/161533 [==============================] - 49s 301us/step - loss: 15.0329 - mean_absolute_error: 1.5977 - rmse_keras: 1.5977\n",
      "Epoch 52/100\n",
      "161533/161533 [==============================] - 51s 317us/step - loss: 15.0338 - mean_absolute_error: 1.5962 - rmse_keras: 1.5962\n",
      "Epoch 54/100\n",
      "161533/161533 [==============================] - 50s 311us/step - loss: 15.0338 - mean_absolute_error: 1.5973 - rmse_keras: 1.5973\n",
      "Epoch 55/100\n",
      "161533/161533 [==============================] - 57s 350us/step - loss: 15.0338 - mean_absolute_error: 1.5976 - rmse_keras: 1.5976\n",
      "Epoch 56/100\n",
      "101830/161533 [=================>............] - ETA: 20s - loss: 15.2503 - mean_absolute_error: 1.6070 - rmse_keras: 1.6070"
     ]
    },
    {
     "name": "stderr",
     "output_type": "stream",
     "text": [
      "IOPub message rate exceeded.\n",
      "The notebook server will temporarily stop sending output\n",
      "to the client in order to avoid crashing it.\n",
      "To change this limit, set the config variable\n",
      "`--NotebookApp.iopub_msg_rate_limit`.\n",
      "\n",
      "Current values:\n",
      "NotebookApp.iopub_msg_rate_limit=1000.0 (msgs/sec)\n",
      "NotebookApp.rate_limit_window=3.0 (secs)\n",
      "\n"
     ]
    },
    {
     "name": "stdout",
     "output_type": "stream",
     "text": [
      "161533/161533 [==============================] - 49s 303us/step - loss: 15.0338 - mean_absolute_error: 1.5967 - rmse_keras: 1.5967\n",
      "Epoch 68/100\n",
      "161533/161533 [==============================] - 49s 304us/step - loss: 15.0339 - mean_absolute_error: 1.5967 - rmse_keras: 1.5967\n",
      "Epoch 69/100\n",
      "161533/161533 [==============================] - 49s 302us/step - loss: 15.0339 - mean_absolute_error: 1.5976 - rmse_keras: 1.5976\n",
      "Epoch 70/100\n",
      " 59940/161533 [==========>...................] - ETA: 30s - loss: 15.1069 - mean_absolute_error: 1.5983 - rmse_keras: 1.5983"
     ]
    },
    {
     "name": "stderr",
     "output_type": "stream",
     "text": [
      "IOPub message rate exceeded.\n",
      "The notebook server will temporarily stop sending output\n",
      "to the client in order to avoid crashing it.\n",
      "To change this limit, set the config variable\n",
      "`--NotebookApp.iopub_msg_rate_limit`.\n",
      "\n",
      "Current values:\n",
      "NotebookApp.iopub_msg_rate_limit=1000.0 (msgs/sec)\n",
      "NotebookApp.rate_limit_window=3.0 (secs)\n",
      "\n"
     ]
    },
    {
     "name": "stdout",
     "output_type": "stream",
     "text": [
      "161533/161533 [==============================] - 50s 307us/step - loss: 15.0337 - mean_absolute_error: 1.5965 - rmse_keras: 1.5965\n",
      "Epoch 75/100\n",
      "161533/161533 [==============================] - 50s 307us/step - loss: 15.0335 - mean_absolute_error: 1.5965 - rmse_keras: 1.5965\n",
      "Epoch 76/100\n",
      "161533/161533 [==============================] - 49s 301us/step - loss: 15.0337 - mean_absolute_error: 1.5977 - rmse_keras: 1.5977\n",
      "Epoch 77/100\n",
      " 38320/161533 [======>.......................] - ETA: 38s - loss: 15.1415 - mean_absolute_error: 1.5977 - rmse_keras: 1.5977"
     ]
    },
    {
     "name": "stderr",
     "output_type": "stream",
     "text": [
      "IOPub message rate exceeded.\n",
      "The notebook server will temporarily stop sending output\n",
      "to the client in order to avoid crashing it.\n",
      "To change this limit, set the config variable\n",
      "`--NotebookApp.iopub_msg_rate_limit`.\n",
      "\n",
      "Current values:\n",
      "NotebookApp.iopub_msg_rate_limit=1000.0 (msgs/sec)\n",
      "NotebookApp.rate_limit_window=3.0 (secs)\n",
      "\n"
     ]
    },
    {
     "name": "stdout",
     "output_type": "stream",
     "text": [
      "161533/161533 [==============================] - 51s 316us/step - loss: 15.0334 - mean_absolute_error: 1.5960 - rmse_keras: 1.5960\n",
      "Epoch 88/100\n",
      "161533/161533 [==============================] - 50s 307us/step - loss: 15.0339 - mean_absolute_error: 1.5981 - rmse_keras: 1.5981\n",
      "Epoch 89/100\n",
      "161533/161533 [==============================] - 49s 306us/step - loss: 15.0338 - mean_absolute_error: 1.5961 - rmse_keras: 1.5961\n",
      "Epoch 90/100\n",
      "143260/161533 [=========================>....] - ETA: 5s - loss: 14.9045 - mean_absolute_error: 1.5942 - rmse_keras: 1.5942"
     ]
    },
    {
     "name": "stderr",
     "output_type": "stream",
     "text": [
      "IOPub message rate exceeded.\n",
      "The notebook server will temporarily stop sending output\n",
      "to the client in order to avoid crashing it.\n",
      "To change this limit, set the config variable\n",
      "`--NotebookApp.iopub_msg_rate_limit`.\n",
      "\n",
      "Current values:\n",
      "NotebookApp.iopub_msg_rate_limit=1000.0 (msgs/sec)\n",
      "NotebookApp.rate_limit_window=3.0 (secs)\n",
      "\n"
     ]
    },
    {
     "name": "stdout",
     "output_type": "stream",
     "text": [
      "161533/161533 [==============================] - 48s 296us/step - loss: 14.8154 - mean_absolute_error: 1.5844 - rmse_keras: 1.5844\n",
      "Epoch 2/100\n",
      "161533/161533 [==============================] - 49s 300us/step - loss: 14.8117 - mean_absolute_error: 1.5888 - rmse_keras: 1.5888\n",
      "Epoch 3/100\n",
      "161533/161533 [==============================] - 50s 307us/step - loss: 14.8120 - mean_absolute_error: 1.5877 - rmse_keras: 1.5877\n",
      "Epoch 4/100\n",
      "161533/161533 [==============================] - 49s 305us/step - loss: 14.8121 - mean_absolute_error: 1.5874 - rmse_keras: 1.5874\n",
      "Epoch 6/100\n",
      "161533/161533 [==============================] - 47s 292us/step - loss: 14.8118 - mean_absolute_error: 1.5890 - rmse_keras: 1.5890\n",
      "Epoch 7/100\n",
      "161533/161533 [==============================] - 50s 308us/step - loss: 14.8107 - mean_absolute_error: 1.5871 - rmse_keras: 1.5871\n",
      "Epoch 8/100\n",
      "110775/161533 [===================>..........] - ETA: 16s - loss: 14.8312 - mean_absolute_error: 1.5870 - rmse_keras: 1.5870"
     ]
    },
    {
     "name": "stderr",
     "output_type": "stream",
     "text": [
      "IOPub message rate exceeded.\n",
      "The notebook server will temporarily stop sending output\n",
      "to the client in order to avoid crashing it.\n",
      "To change this limit, set the config variable\n",
      "`--NotebookApp.iopub_msg_rate_limit`.\n",
      "\n",
      "Current values:\n",
      "NotebookApp.iopub_msg_rate_limit=1000.0 (msgs/sec)\n",
      "NotebookApp.rate_limit_window=3.0 (secs)\n",
      "\n"
     ]
    },
    {
     "name": "stdout",
     "output_type": "stream",
     "text": [
      "161533/161533 [==============================] - 51s 318us/step - loss: 14.8117 - mean_absolute_error: 1.5883 - rmse_keras: 1.5883\n",
      "Epoch 12/100\n",
      "161533/161533 [==============================] - 49s 305us/step - loss: 14.8119 - mean_absolute_error: 1.5882 - rmse_keras: 1.5882\n",
      "Epoch 14/100\n",
      "161533/161533 [==============================] - 49s 302us/step - loss: 14.8121 - mean_absolute_error: 1.5880 - rmse_keras: 1.5880\n",
      "Epoch 15/100\n",
      "161533/161533 [==============================] - 48s 295us/step - loss: 14.8117 - mean_absolute_error: 1.5882 - rmse_keras: 1.5882\n",
      "Epoch 16/100\n",
      "121280/161533 [=====================>........] - ETA: 12s - loss: 14.9797 - mean_absolute_error: 1.5925 - rmse_keras: 1.5925"
     ]
    },
    {
     "name": "stderr",
     "output_type": "stream",
     "text": [
      "IOPub message rate exceeded.\n",
      "The notebook server will temporarily stop sending output\n",
      "to the client in order to avoid crashing it.\n",
      "To change this limit, set the config variable\n",
      "`--NotebookApp.iopub_msg_rate_limit`.\n",
      "\n",
      "Current values:\n",
      "NotebookApp.iopub_msg_rate_limit=1000.0 (msgs/sec)\n",
      "NotebookApp.rate_limit_window=3.0 (secs)\n",
      "\n"
     ]
    },
    {
     "name": "stdout",
     "output_type": "stream",
     "text": [
      "161533/161533 [==============================] - 49s 306us/step - loss: 14.8119 - mean_absolute_error: 1.5885 - rmse_keras: 1.5885\n",
      "Epoch 28/100\n",
      "161533/161533 [==============================] - 50s 308us/step - loss: 14.8118 - mean_absolute_error: 1.5881 - rmse_keras: 1.5881\n",
      "Epoch 29/100\n",
      "161533/161533 [==============================] - 49s 306us/step - loss: 14.8121 - mean_absolute_error: 1.5883 - rmse_keras: 1.5883\n",
      "Epoch 30/100\n",
      "161533/161533 [==============================] - 51s 317us/step - loss: 14.8118 - mean_absolute_error: 1.5882 - rmse_keras: 1.5882\n",
      "Epoch 32/100\n",
      "161533/161533 [==============================] - 51s 319us/step - loss: 14.8119 - mean_absolute_error: 1.5880 - rmse_keras: 1.5880\n",
      "Epoch 33/100\n",
      "161533/161533 [==============================] - 54s 332us/step - loss: 14.8119 - mean_absolute_error: 1.5887 - rmse_keras: 1.5887\n",
      "Epoch 34/100\n",
      " 75100/161533 [============>.................] - ETA: 31s - loss: 15.5398 - mean_absolute_error: 1.6155 - rmse_keras: 1.6155"
     ]
    },
    {
     "name": "stderr",
     "output_type": "stream",
     "text": [
      "IOPub message rate exceeded.\n",
      "The notebook server will temporarily stop sending output\n",
      "to the client in order to avoid crashing it.\n",
      "To change this limit, set the config variable\n",
      "`--NotebookApp.iopub_msg_rate_limit`.\n",
      "\n",
      "Current values:\n",
      "NotebookApp.iopub_msg_rate_limit=1000.0 (msgs/sec)\n",
      "NotebookApp.rate_limit_window=3.0 (secs)\n",
      "\n"
     ]
    },
    {
     "name": "stdout",
     "output_type": "stream",
     "text": [
      "161533/161533 [==============================] - 49s 300us/step - loss: 14.8115 - mean_absolute_error: 1.5887 - rmse_keras: 1.5887\n",
      "Epoch 41/100\n",
      "161533/161533 [==============================] - 50s 308us/step - loss: 14.8122 - mean_absolute_error: 1.5882 - rmse_keras: 1.5882\n",
      "Epoch 42/100\n",
      "161533/161533 [==============================] - 49s 302us/step - loss: 14.8118 - mean_absolute_error: 1.5886 - rmse_keras: 1.5886\n",
      "Epoch 43/100\n",
      "150980/161533 [===========================>..] - ETA: 3s - loss: 14.7712 - mean_absolute_error: 1.5869 - rmse_keras: 1.5869"
     ]
    },
    {
     "name": "stderr",
     "output_type": "stream",
     "text": [
      "IOPub message rate exceeded.\n",
      "The notebook server will temporarily stop sending output\n",
      "to the client in order to avoid crashing it.\n",
      "To change this limit, set the config variable\n",
      "`--NotebookApp.iopub_msg_rate_limit`.\n",
      "\n",
      "Current values:\n",
      "NotebookApp.iopub_msg_rate_limit=1000.0 (msgs/sec)\n",
      "NotebookApp.rate_limit_window=3.0 (secs)\n",
      "\n"
     ]
    },
    {
     "name": "stdout",
     "output_type": "stream",
     "text": [
      "161533/161533 [==============================] - 49s 306us/step - loss: 14.8120 - mean_absolute_error: 1.5882 - rmse_keras: 1.5882\n",
      "Epoch 55/100\n",
      "161533/161533 [==============================] - 51s 315us/step - loss: 14.8119 - mean_absolute_error: 1.5887 - rmse_keras: 1.5887\n",
      "Epoch 56/100\n",
      "161533/161533 [==============================] - 52s 320us/step - loss: 14.8116 - mean_absolute_error: 1.5886 - rmse_keras: 1.5886\n",
      "Epoch 57/100\n",
      " 35990/161533 [=====>........................] - ETA: 39s - loss: 15.1648 - mean_absolute_error: 1.6054 - rmse_keras: 1.6054"
     ]
    },
    {
     "name": "stderr",
     "output_type": "stream",
     "text": [
      "IOPub message rate exceeded.\n",
      "The notebook server will temporarily stop sending output\n",
      "to the client in order to avoid crashing it.\n",
      "To change this limit, set the config variable\n",
      "`--NotebookApp.iopub_msg_rate_limit`.\n",
      "\n",
      "Current values:\n",
      "NotebookApp.iopub_msg_rate_limit=1000.0 (msgs/sec)\n",
      "NotebookApp.rate_limit_window=3.0 (secs)\n",
      "\n"
     ]
    },
    {
     "name": "stdout",
     "output_type": "stream",
     "text": [
      "161533/161533 [==============================] - 55s 340us/step - loss: 14.8118 - mean_absolute_error: 1.5881 - rmse_keras: 1.5881\n",
      "Epoch 58/100\n",
      "161533/161533 [==============================] - 51s 316us/step - loss: 14.8119 - mean_absolute_error: 1.5881 - rmse_keras: 1.5881\n",
      "Epoch 60/100\n",
      "161533/161533 [==============================] - 48s 299us/step - loss: 14.8121 - mean_absolute_error: 1.5885 - rmse_keras: 1.5885\n",
      "Epoch 61/100\n",
      "161533/161533 [==============================] - 49s 301us/step - loss: 14.8115 - mean_absolute_error: 1.5876 - rmse_keras: 1.5876\n",
      "Epoch 62/100\n",
      " 80240/161533 [=============>................] - ETA: 24s - loss: 14.6435 - mean_absolute_error: 1.5858 - rmse_keras: 1.5858"
     ]
    },
    {
     "name": "stderr",
     "output_type": "stream",
     "text": [
      "IOPub message rate exceeded.\n",
      "The notebook server will temporarily stop sending output\n",
      "to the client in order to avoid crashing it.\n",
      "To change this limit, set the config variable\n",
      "`--NotebookApp.iopub_msg_rate_limit`.\n",
      "\n",
      "Current values:\n",
      "NotebookApp.iopub_msg_rate_limit=1000.0 (msgs/sec)\n",
      "NotebookApp.rate_limit_window=3.0 (secs)\n",
      "\n"
     ]
    },
    {
     "name": "stdout",
     "output_type": "stream",
     "text": [
      "161533/161533 [==============================] - 48s 299us/step - loss: 14.8113 - mean_absolute_error: 1.5890 - rmse_keras: 1.5890\n",
      "Epoch 65/100\n",
      "161533/161533 [==============================] - 48s 299us/step - loss: 14.8118 - mean_absolute_error: 1.5889 - rmse_keras: 1.5889\n",
      "Epoch 67/100\n",
      "161533/161533 [==============================] - 48s 299us/step - loss: 14.8117 - mean_absolute_error: 1.5885 - rmse_keras: 1.5885\n",
      "Epoch 68/100\n",
      "161533/161533 [==============================] - 49s 305us/step - loss: 14.8117 - mean_absolute_error: 1.5888 - rmse_keras: 1.5888\n",
      "Epoch 69/100\n",
      "134285/161533 [=======================>......] - ETA: 8s - loss: 14.7531 - mean_absolute_error: 1.5872 - rmse_keras: 1.5872"
     ]
    },
    {
     "name": "stderr",
     "output_type": "stream",
     "text": [
      "IOPub message rate exceeded.\n",
      "The notebook server will temporarily stop sending output\n",
      "to the client in order to avoid crashing it.\n",
      "To change this limit, set the config variable\n",
      "`--NotebookApp.iopub_msg_rate_limit`.\n",
      "\n",
      "Current values:\n",
      "NotebookApp.iopub_msg_rate_limit=1000.0 (msgs/sec)\n",
      "NotebookApp.rate_limit_window=3.0 (secs)\n",
      "\n"
     ]
    },
    {
     "name": "stdout",
     "output_type": "stream",
     "text": [
      "161533/161533 [==============================] - 48s 298us/step - loss: 14.8111 - mean_absolute_error: 1.5880 - rmse_keras: 1.5880\n",
      "Epoch 71/100\n",
      "161533/161533 [==============================] - 48s 300us/step - loss: 14.8116 - mean_absolute_error: 1.5892 - rmse_keras: 1.5892\n",
      "Epoch 73/100\n",
      "161533/161533 [==============================] - 48s 300us/step - loss: 14.8120 - mean_absolute_error: 1.5883 - rmse_keras: 1.5883\n",
      "Epoch 74/100\n",
      "161533/161533 [==============================] - 49s 302us/step - loss: 14.8117 - mean_absolute_error: 1.5885 - rmse_keras: 1.5885\n",
      "Epoch 75/100\n",
      "161533/161533 [==============================] - 49s 302us/step - loss: 14.8117 - mean_absolute_error: 1.5881 - rmse_keras: 1.5881\n",
      "Epoch 76/100\n",
      " 78980/161533 [=============>................] - ETA: 24s - loss: 14.8737 - mean_absolute_error: 1.5881 - rmse_keras: 1.5881"
     ]
    }
   ],
   "source": [
    "kfold_keras(train_df, test_df, 5)"
   ]
  },
  {
   "cell_type": "code",
   "execution_count": null,
   "metadata": {},
   "outputs": [],
   "source": []
  }
 ],
 "metadata": {
  "kernelspec": {
   "display_name": "Python 3",
   "language": "python",
   "name": "python3"
  },
  "language_info": {
   "codemirror_mode": {
    "name": "ipython",
    "version": 3
   },
   "file_extension": ".py",
   "mimetype": "text/x-python",
   "name": "python",
   "nbconvert_exporter": "python",
   "pygments_lexer": "ipython3",
   "version": "3.7.2"
  }
 },
 "nbformat": 4,
 "nbformat_minor": 2
}
